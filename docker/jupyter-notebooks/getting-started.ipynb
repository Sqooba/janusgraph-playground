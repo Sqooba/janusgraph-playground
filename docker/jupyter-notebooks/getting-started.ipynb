{
 "cells": [
  {
   "cell_type": "markdown",
   "id": "biological-wisconsin",
   "metadata": {},
   "source": [
    "# Sqooba janusgraph-playground\n",
    "\n",
    "See how to configure gremlin to access janusgraph:"
   ]
  },
  {
   "cell_type": "code",
   "execution_count": null,
   "id": "hybrid-evans",
   "metadata": {},
   "outputs": [],
   "source": [
    "%%graph_notebook_config\n",
    "{\n",
    "  \"host\": \"janusgraph\",\n",
    "  \"port\": 8182,\n",
    "  \"auth_mode\": \"DEFAULT\",\n",
    "  \"iam_credentials_provider_type\": \"ROLE\",\n",
    "  \"ssl\": false,\n",
    "  \"aws_region\": \"us-east-1\",\n",
    "  \"load_from_s3_arn\": \"\"\n",
    "}"
   ]
  },
  {
   "cell_type": "code",
   "execution_count": null,
   "id": "adult-wesley",
   "metadata": {},
   "outputs": [],
   "source": [
    "%status"
   ]
  },
  {
   "cell_type": "code",
   "execution_count": null,
   "id": "searching-sequence",
   "metadata": {},
   "outputs": [],
   "source": [
    "%%gremlin\n",
    "\n",
    "g.V().count()"
   ]
  }
 ],
 "metadata": {
  "kernelspec": {
   "display_name": "Python 3",
   "language": "python",
   "name": "python3"
  },
  "language_info": {
   "codemirror_mode": {
    "name": "ipython",
    "version": 3
   },
   "file_extension": ".py",
   "mimetype": "text/x-python",
   "name": "python",
   "nbconvert_exporter": "python",
   "pygments_lexer": "ipython3",
   "version": "3.6.12"
  }
 },
 "nbformat": 4,
 "nbformat_minor": 5
}
